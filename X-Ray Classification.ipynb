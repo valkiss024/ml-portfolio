{
 "cells": [
  {
   "cell_type": "markdown",
   "id": "5aea9fa8",
   "metadata": {},
   "source": [
    "# X-Ray Image Classification Project\n",
    "\n",
    "### <u>Objective:</u>\n",
    "\n",
    "***The aim of the project is to develop a Convolutional Neural Network (CNN) for image classification and use it to detect Pneumonia cases from chest X-ray images***\n",
    "\n",
    "**Dataset used in this Notebook is available for download from:** https://www.kaggle.com/datasets/tolgadincer/labeled-chest-xray-images"
   ]
  },
  {
   "cell_type": "code",
   "execution_count": 19,
   "id": "d2b6f7dc",
   "metadata": {},
   "outputs": [],
   "source": [
    "import os\n",
    "import tensorflow as tf\n",
    "\n",
    "from keras.preprocessing.image import ImageDataGenerator\n",
    "from keras.models import Sequential"
   ]
  },
  {
   "cell_type": "code",
   "execution_count": 6,
   "id": "b54dbd15",
   "metadata": {},
   "outputs": [],
   "source": [
    "# Disable those annoying warnings\n",
    "tf.get_logger().setLevel('ERROR')\n",
    "\n",
    "# Turn off GPU usage for tf\n",
    "os.environ['CUDA_VISIBLE_DEVICES'] = '-1'\n",
    "os.environ[\"TF_CPP_MIN_LOG_LEVEL\"] = '2'"
   ]
  },
  {
   "cell_type": "code",
   "execution_count": 8,
   "id": "ea057c2a",
   "metadata": {},
   "outputs": [],
   "source": [
    "def load_images_for_training(directory, batch_size, target_size, class_mode='binary', color_mode='grayscale'):\n",
    "    \"\"\"\n",
    "    Function used to create the training_iterator and validation_iterator used for training the model\n",
    "    \"\"\"\n",
    "    \n",
    "    generator = ImageDataGenerator(rescale=1./255,\n",
    "                                  validation_split=0.2,\n",
    "                                  zoom_range=0.2,\n",
    "                                  horizontal_flip=True)\n",
    "    \n",
    "    training_iterator = _create_iterator(generator, directory, batch_size, target_size, class_mode, color_mode,\n",
    "                                        subset='training')\n",
    "    validation_iterator = _create_iterator(generator, directory, batch_size, target_size, class_mode, color_mode,\n",
    "                                        subset='validation')\n",
    "    \n",
    "    return training_iterator, validation_iterator"
   ]
  },
  {
   "cell_type": "code",
   "execution_count": 10,
   "id": "e77e020a",
   "metadata": {},
   "outputs": [],
   "source": [
    "def load_images_for_testing(directory, batch_size, target_size, class_mode='binary', color_mode='grayscale'):\n",
    "    \"\"\"\n",
    "    Function used to create the testing_iterator used for evaluating model performance\n",
    "    \"\"\"\n",
    "    \n",
    "    generator = ImageDataGenerator(rescale=1./255)\n",
    "    \n",
    "    testing_iterator = _create_iterator(generator, directory, batch_size, target_size, class_mode, color_mode)\n",
    "    \n",
    "    return testing_iterator"
   ]
  },
  {
   "cell_type": "code",
   "execution_count": 9,
   "id": "c6ed4d12",
   "metadata": {},
   "outputs": [],
   "source": [
    "def _create_iterator(generator, directory, batch_size, target_size, class_mode, color_mode, subset=\"\"):\n",
    "    \"\"\"\n",
    "    Helper function to create the the DirectoryIterator by using the ImageDataGenerator\n",
    "    \"\"\"\n",
    "    if subset:\n",
    "        iterator = generator.flow_from_directory(directory,\n",
    "                                                subset=subset,\n",
    "                                                batch_size=batch_size,\n",
    "                                                target_size=target_size,\n",
    "                                                class_mode=class_mode,\n",
    "                                                color_mode=color_mode)\n",
    "        return iterator\n",
    "    \n",
    "    iterator = generator.flow_from_directory(directory,\n",
    "                                            batch_size=batch_size,\n",
    "                                            target_size=target_size,\n",
    "                                            class_mode=class_mode,\n",
    "                                            color_mode=color_mode)\n",
    "    return iterator"
   ]
  },
  {
   "cell_type": "code",
   "execution_count": 17,
   "id": "ee4d46c2",
   "metadata": {},
   "outputs": [],
   "source": [
    "def test_sample_batch(iterator):\n",
    "    \"\"\"\n",
    "    Function to yield the next batch from the DirectoryIterator and output the shape of input and labels\n",
    "    \"\"\"\n",
    "    \n",
    "    sample_input_batch, sample_labels_batch = iterator.next()\n",
    "    \n",
    "    print(f'Sample input shape: {sample_input_batch.shape}, sample labels shape: {sample_labels_batch.shape}')"
   ]
  },
  {
   "cell_type": "code",
   "execution_count": null,
   "id": "2125df25",
   "metadata": {},
   "outputs": [],
   "source": [
    "def create_model(input_shape, name='sequential'):\n",
    "    model = Sequential(name=name)\n",
    "    \n",
    "    # Add Input Layer\n",
    "    model.add(tf.keras.Input(shape=input_shape))\n",
    "    \n",
    "    # Add Convolutional Layer(s)\n",
    "    "
   ]
  },
  {
   "cell_type": "code",
   "execution_count": 20,
   "id": "08749959",
   "metadata": {},
   "outputs": [],
   "source": [
    "def main():\n",
    "    TRAIN_DIRECTORY = './Datasets/pneumonia_xray/train'\n",
    "    TEST_DIRECTORY = './Datasets/pneumonia_xray/test'\n",
    "    \n",
    "    BATCH_SIZE = 32\n",
    "    TARGET_SIZE = (255, 255)\n",
    "    \n",
    "    # Load in the training and validation sets\n",
    "    training_iterator, validation_iterator = load_images_for_training(TRAIN_DIRECTORY,\n",
    "                                                                     batch_size=BATCH_SIZE,\n",
    "                                                                     target_size=TARGET_SIZE)\n",
    "    \n",
    "    # Test the images loaded in to the training iterator\n",
    "    test_sample_batch(training_iterator)"
   ]
  },
  {
   "cell_type": "code",
   "execution_count": 18,
   "id": "4d00f0ac",
   "metadata": {},
   "outputs": [
    {
     "name": "stdout",
     "output_type": "stream",
     "text": [
      "Found 4187 images belonging to 2 classes.\n",
      "Found 1045 images belonging to 2 classes.\n",
      "Sample input shape: (32, 200, 200, 1), sample labels shape: (32,)\n"
     ]
    }
   ],
   "source": [
    "if __name__ == '__main__':\n",
    "    main()"
   ]
  }
 ],
 "metadata": {
  "kernelspec": {
   "display_name": "Python 3 (ipykernel)",
   "language": "python",
   "name": "python3"
  },
  "language_info": {
   "codemirror_mode": {
    "name": "ipython",
    "version": 3
   },
   "file_extension": ".py",
   "mimetype": "text/x-python",
   "name": "python",
   "nbconvert_exporter": "python",
   "pygments_lexer": "ipython3",
   "version": "3.8.10"
  }
 },
 "nbformat": 4,
 "nbformat_minor": 5
}
